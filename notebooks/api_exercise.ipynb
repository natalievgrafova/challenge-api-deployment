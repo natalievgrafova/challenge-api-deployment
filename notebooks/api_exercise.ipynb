{
 "cells": [
  {
   "cell_type": "code",
   "execution_count": 15,
   "metadata": {},
   "outputs": [],
   "source": [
    "from enum import Enum\n",
    "from fastapi import FastAPI\n",
    "from pydantic import BaseModel"
   ]
  },
  {
   "cell_type": "code",
   "execution_count": 16,
   "metadata": {},
   "outputs": [],
   "source": [
    "app = FastAPI()"
   ]
  },
  {
   "cell_type": "code",
   "execution_count": 28,
   "metadata": {},
   "outputs": [],
   "source": [
    "@app.get(\"/\")\n",
    "async def root():\n",
    "    return {\"message\": \"Let's count a net salary\"}"
   ]
  },
  {
   "cell_type": "code",
   "execution_count": null,
   "metadata": {},
   "outputs": [],
   "source": [
    "dict = {\n",
    "    \"salary\": 2500,\n",
    "    \"bonus\": 200,\n",
    "    \"taxes\": 400\n",
    "}"
   ]
  },
  {
   "cell_type": "code",
   "execution_count": null,
   "metadata": {},
   "outputs": [],
   "source": [
    "@app.get(\"/items\")\n",
    "\n",
    "def get_item() -> dict[str, int]:\n",
    "\n",
    "    return {\"items\":dict}"
   ]
  },
  {
   "cell_type": "code",
   "execution_count": 36,
   "metadata": {},
   "outputs": [],
   "source": [
    "@app.post(\"/net\")\n",
    "\n",
    "def post_net(salary=input(\"Input salary:\"), bonus =input(\"Input bonus:\"), taxes=input(\"Input tax:\")):\n",
    "    net= salary+bonus-taxes\n",
    "    return net"
   ]
  },
  {
   "cell_type": "code",
   "execution_count": 32,
   "metadata": {},
   "outputs": [],
   "source": [
    "@app.post(\"/net\")\n",
    "\n",
    "def post_net(salary:int, bonus:int, taxes:int):\n",
    "    net = salary+bonus-taxes\n",
    "    return net\n",
    "\n"
   ]
  },
  {
   "cell_type": "code",
   "execution_count": null,
   "metadata": {},
   "outputs": [],
   "source": []
  }
 ],
 "metadata": {
  "kernelspec": {
   "display_name": "Python 3.11.3 ('deployment': venv)",
   "language": "python",
   "name": "python3"
  },
  "language_info": {
   "codemirror_mode": {
    "name": "ipython",
    "version": 3
   },
   "file_extension": ".py",
   "mimetype": "text/x-python",
   "name": "python",
   "nbconvert_exporter": "python",
   "pygments_lexer": "ipython3",
   "version": "3.11.3"
  },
  "orig_nbformat": 4,
  "vscode": {
   "interpreter": {
    "hash": "1e77c0fb1fa75c0ec420774eb471abbd7261b0486b61816c80922f405b674377"
   }
  }
 },
 "nbformat": 4,
 "nbformat_minor": 2
}
